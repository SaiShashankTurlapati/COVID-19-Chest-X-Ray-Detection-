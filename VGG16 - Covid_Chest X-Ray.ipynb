{
 "cells": [
  {
   "cell_type": "code",
   "execution_count": 1,
   "metadata": {},
   "outputs": [
    {
     "name": "stderr",
     "output_type": "stream",
     "text": [
      "Using TensorFlow backend.\n",
      "C:\\Users\\shash\\anaconda3\\lib\\site-packages\\tensorflow\\python\\framework\\dtypes.py:516: FutureWarning: Passing (type, 1) or '1type' as a synonym of type is deprecated; in a future version of numpy, it will be understood as (type, (1,)) / '(1,)type'.\n",
      "  _np_qint8 = np.dtype([(\"qint8\", np.int8, 1)])\n",
      "C:\\Users\\shash\\anaconda3\\lib\\site-packages\\tensorflow\\python\\framework\\dtypes.py:517: FutureWarning: Passing (type, 1) or '1type' as a synonym of type is deprecated; in a future version of numpy, it will be understood as (type, (1,)) / '(1,)type'.\n",
      "  _np_quint8 = np.dtype([(\"quint8\", np.uint8, 1)])\n",
      "C:\\Users\\shash\\anaconda3\\lib\\site-packages\\tensorflow\\python\\framework\\dtypes.py:518: FutureWarning: Passing (type, 1) or '1type' as a synonym of type is deprecated; in a future version of numpy, it will be understood as (type, (1,)) / '(1,)type'.\n",
      "  _np_qint16 = np.dtype([(\"qint16\", np.int16, 1)])\n",
      "C:\\Users\\shash\\anaconda3\\lib\\site-packages\\tensorflow\\python\\framework\\dtypes.py:519: FutureWarning: Passing (type, 1) or '1type' as a synonym of type is deprecated; in a future version of numpy, it will be understood as (type, (1,)) / '(1,)type'.\n",
      "  _np_quint16 = np.dtype([(\"quint16\", np.uint16, 1)])\n",
      "C:\\Users\\shash\\anaconda3\\lib\\site-packages\\tensorflow\\python\\framework\\dtypes.py:520: FutureWarning: Passing (type, 1) or '1type' as a synonym of type is deprecated; in a future version of numpy, it will be understood as (type, (1,)) / '(1,)type'.\n",
      "  _np_qint32 = np.dtype([(\"qint32\", np.int32, 1)])\n",
      "C:\\Users\\shash\\anaconda3\\lib\\site-packages\\tensorflow\\python\\framework\\dtypes.py:525: FutureWarning: Passing (type, 1) or '1type' as a synonym of type is deprecated; in a future version of numpy, it will be understood as (type, (1,)) / '(1,)type'.\n",
      "  np_resource = np.dtype([(\"resource\", np.ubyte, 1)])\n",
      "C:\\Users\\shash\\anaconda3\\lib\\site-packages\\tensorboard\\compat\\tensorflow_stub\\dtypes.py:541: FutureWarning: Passing (type, 1) or '1type' as a synonym of type is deprecated; in a future version of numpy, it will be understood as (type, (1,)) / '(1,)type'.\n",
      "  _np_qint8 = np.dtype([(\"qint8\", np.int8, 1)])\n",
      "C:\\Users\\shash\\anaconda3\\lib\\site-packages\\tensorboard\\compat\\tensorflow_stub\\dtypes.py:542: FutureWarning: Passing (type, 1) or '1type' as a synonym of type is deprecated; in a future version of numpy, it will be understood as (type, (1,)) / '(1,)type'.\n",
      "  _np_quint8 = np.dtype([(\"quint8\", np.uint8, 1)])\n",
      "C:\\Users\\shash\\anaconda3\\lib\\site-packages\\tensorboard\\compat\\tensorflow_stub\\dtypes.py:543: FutureWarning: Passing (type, 1) or '1type' as a synonym of type is deprecated; in a future version of numpy, it will be understood as (type, (1,)) / '(1,)type'.\n",
      "  _np_qint16 = np.dtype([(\"qint16\", np.int16, 1)])\n",
      "C:\\Users\\shash\\anaconda3\\lib\\site-packages\\tensorboard\\compat\\tensorflow_stub\\dtypes.py:544: FutureWarning: Passing (type, 1) or '1type' as a synonym of type is deprecated; in a future version of numpy, it will be understood as (type, (1,)) / '(1,)type'.\n",
      "  _np_quint16 = np.dtype([(\"quint16\", np.uint16, 1)])\n",
      "C:\\Users\\shash\\anaconda3\\lib\\site-packages\\tensorboard\\compat\\tensorflow_stub\\dtypes.py:545: FutureWarning: Passing (type, 1) or '1type' as a synonym of type is deprecated; in a future version of numpy, it will be understood as (type, (1,)) / '(1,)type'.\n",
      "  _np_qint32 = np.dtype([(\"qint32\", np.int32, 1)])\n",
      "C:\\Users\\shash\\anaconda3\\lib\\site-packages\\tensorboard\\compat\\tensorflow_stub\\dtypes.py:550: FutureWarning: Passing (type, 1) or '1type' as a synonym of type is deprecated; in a future version of numpy, it will be understood as (type, (1,)) / '(1,)type'.\n",
      "  np_resource = np.dtype([(\"resource\", np.ubyte, 1)])\n"
     ]
    }
   ],
   "source": [
    "from keras.layers import Input, Lambda, Dense, Flatten\n",
    "from keras.models import Model\n",
    "from keras.applications.vgg16 import VGG16\n",
    "from keras.preprocessing import image\n",
    "from keras.preprocessing.image import ImageDataGenerator\n",
    "from keras.models import Sequential\n",
    "import numpy as np\n",
    "from glob import glob\n",
    "import matplotlib.pyplot as plt\n",
    "\n",
    "import warnings\n",
    "warnings.filterwarnings('ignore')"
   ]
  },
  {
   "cell_type": "code",
   "execution_count": 2,
   "metadata": {},
   "outputs": [],
   "source": [
    "from keras.models import load_model\n",
    "\n",
    "IMAGE_SIZE = [224, 224]\n",
    "\n",
    "train_path = r'S:\\VIT AP\\SummerInternship1\\COVID 19\\train'\n",
    "valid_path = r'S:\\VIT AP\\SummerInternship1\\COVID 19\\test'"
   ]
  },
  {
   "cell_type": "code",
   "execution_count": 3,
   "metadata": {},
   "outputs": [
    {
     "name": "stdout",
     "output_type": "stream",
     "text": [
      "WARNING:tensorflow:From C:\\Users\\shash\\anaconda3\\lib\\site-packages\\keras\\backend\\tensorflow_backend.py:74: The name tf.get_default_graph is deprecated. Please use tf.compat.v1.get_default_graph instead.\n",
      "\n",
      "WARNING:tensorflow:From C:\\Users\\shash\\anaconda3\\lib\\site-packages\\keras\\backend\\tensorflow_backend.py:517: The name tf.placeholder is deprecated. Please use tf.compat.v1.placeholder instead.\n",
      "\n",
      "WARNING:tensorflow:From C:\\Users\\shash\\anaconda3\\lib\\site-packages\\keras\\backend\\tensorflow_backend.py:4138: The name tf.random_uniform is deprecated. Please use tf.random.uniform instead.\n",
      "\n",
      "WARNING:tensorflow:From C:\\Users\\shash\\anaconda3\\lib\\site-packages\\keras\\backend\\tensorflow_backend.py:3976: The name tf.nn.max_pool is deprecated. Please use tf.nn.max_pool2d instead.\n",
      "\n",
      "WARNING:tensorflow:From C:\\Users\\shash\\anaconda3\\lib\\site-packages\\keras\\backend\\tensorflow_backend.py:174: The name tf.get_default_session is deprecated. Please use tf.compat.v1.get_default_session instead.\n",
      "\n",
      "WARNING:tensorflow:From C:\\Users\\shash\\anaconda3\\lib\\site-packages\\keras\\backend\\tensorflow_backend.py:181: The name tf.ConfigProto is deprecated. Please use tf.compat.v1.ConfigProto instead.\n",
      "\n"
     ]
    }
   ],
   "source": [
    "# add preprocessing layer\n",
    "vgg = VGG16(input_shape=IMAGE_SIZE + [3], weights='imagenet', include_top=False)\n",
    "\n",
    "# don't train existing weights\n",
    "for layer in vgg.layers:\n",
    "  layer.trainable = False"
   ]
  },
  {
   "cell_type": "code",
   "execution_count": 4,
   "metadata": {},
   "outputs": [],
   "source": [
    "# layers\n",
    "x = Flatten()(vgg.output)\n",
    "# x = Dense(1000, activation='relu')(x)\n",
    "prediction = Dense(7, activation='softmax')(x)"
   ]
  },
  {
   "cell_type": "code",
   "execution_count": 5,
   "metadata": {},
   "outputs": [],
   "source": [
    "# create a model object\n",
    "model = Model(inputs=vgg.input, outputs=prediction)"
   ]
  },
  {
   "cell_type": "code",
   "execution_count": 6,
   "metadata": {},
   "outputs": [
    {
     "name": "stdout",
     "output_type": "stream",
     "text": [
      "_________________________________________________________________\n",
      "Layer (type)                 Output Shape              Param #   \n",
      "=================================================================\n",
      "input_1 (InputLayer)         (None, 224, 224, 3)       0         \n",
      "_________________________________________________________________\n",
      "block1_conv1 (Conv2D)        (None, 224, 224, 64)      1792      \n",
      "_________________________________________________________________\n",
      "block1_conv2 (Conv2D)        (None, 224, 224, 64)      36928     \n",
      "_________________________________________________________________\n",
      "block1_pool (MaxPooling2D)   (None, 112, 112, 64)      0         \n",
      "_________________________________________________________________\n",
      "block2_conv1 (Conv2D)        (None, 112, 112, 128)     73856     \n",
      "_________________________________________________________________\n",
      "block2_conv2 (Conv2D)        (None, 112, 112, 128)     147584    \n",
      "_________________________________________________________________\n",
      "block2_pool (MaxPooling2D)   (None, 56, 56, 128)       0         \n",
      "_________________________________________________________________\n",
      "block3_conv1 (Conv2D)        (None, 56, 56, 256)       295168    \n",
      "_________________________________________________________________\n",
      "block3_conv2 (Conv2D)        (None, 56, 56, 256)       590080    \n",
      "_________________________________________________________________\n",
      "block3_conv3 (Conv2D)        (None, 56, 56, 256)       590080    \n",
      "_________________________________________________________________\n",
      "block3_pool (MaxPooling2D)   (None, 28, 28, 256)       0         \n",
      "_________________________________________________________________\n",
      "block4_conv1 (Conv2D)        (None, 28, 28, 512)       1180160   \n",
      "_________________________________________________________________\n",
      "block4_conv2 (Conv2D)        (None, 28, 28, 512)       2359808   \n",
      "_________________________________________________________________\n",
      "block4_conv3 (Conv2D)        (None, 28, 28, 512)       2359808   \n",
      "_________________________________________________________________\n",
      "block4_pool (MaxPooling2D)   (None, 14, 14, 512)       0         \n",
      "_________________________________________________________________\n",
      "block5_conv1 (Conv2D)        (None, 14, 14, 512)       2359808   \n",
      "_________________________________________________________________\n",
      "block5_conv2 (Conv2D)        (None, 14, 14, 512)       2359808   \n",
      "_________________________________________________________________\n",
      "block5_conv3 (Conv2D)        (None, 14, 14, 512)       2359808   \n",
      "_________________________________________________________________\n",
      "block5_pool (MaxPooling2D)   (None, 7, 7, 512)         0         \n",
      "_________________________________________________________________\n",
      "flatten_1 (Flatten)          (None, 25088)             0         \n",
      "_________________________________________________________________\n",
      "dense_1 (Dense)              (None, 7)                 175623    \n",
      "=================================================================\n",
      "Total params: 14,890,311\n",
      "Trainable params: 175,623\n",
      "Non-trainable params: 14,714,688\n",
      "_________________________________________________________________\n"
     ]
    }
   ],
   "source": [
    "# view the structure of the model\n",
    "model.summary()"
   ]
  },
  {
   "cell_type": "code",
   "execution_count": 7,
   "metadata": {},
   "outputs": [
    {
     "name": "stdout",
     "output_type": "stream",
     "text": [
      "WARNING:tensorflow:From C:\\Users\\shash\\anaconda3\\lib\\site-packages\\keras\\optimizers.py:790: The name tf.train.Optimizer is deprecated. Please use tf.compat.v1.train.Optimizer instead.\n",
      "\n"
     ]
    }
   ],
   "source": [
    "# telling the model what cost and optimization method to use\n",
    "model.compile(\n",
    "  loss='categorical_crossentropy',\n",
    "  optimizer='adam',\n",
    "  metrics=['accuracy']\n",
    ")"
   ]
  },
  {
   "cell_type": "code",
   "execution_count": 8,
   "metadata": {},
   "outputs": [],
   "source": [
    "#resizing the images\n",
    "train_datagen = ImageDataGenerator(rescale = 1./255,\n",
    "                                   shear_range = 0.2,\n",
    "                                   zoom_range = 0.2,\n",
    "                                   horizontal_flip = True)\n",
    "\n",
    "test_datagen = ImageDataGenerator(rescale = 1./255)"
   ]
  },
  {
   "cell_type": "code",
   "execution_count": 9,
   "metadata": {},
   "outputs": [
    {
     "name": "stdout",
     "output_type": "stream",
     "text": [
      "Found 289 images belonging to 7 classes.\n"
     ]
    }
   ],
   "source": [
    "training_set = train_datagen.flow_from_directory(r'S:\\VIT AP\\SummerInternship1\\COVID 19\\train',\n",
    "                                                 target_size = (224, 224),\n",
    "                                                 batch_size = 1,\n",
    "                                                 class_mode = 'categorical')"
   ]
  },
  {
   "cell_type": "code",
   "execution_count": 10,
   "metadata": {},
   "outputs": [
    {
     "name": "stdout",
     "output_type": "stream",
     "text": [
      "Found 76 images belonging to 7 classes.\n"
     ]
    }
   ],
   "source": [
    "test_set = test_datagen.flow_from_directory(r'S:\\VIT AP\\SummerInternship1\\COVID 19\\test',\n",
    "                                            target_size = (224, 224),\n",
    "                                            batch_size = 1,\n",
    "                                            class_mode = 'categorical')"
   ]
  },
  {
   "cell_type": "code",
   "execution_count": 11,
   "metadata": {},
   "outputs": [
    {
     "name": "stdout",
     "output_type": "stream",
     "text": [
      "WARNING:tensorflow:From C:\\Users\\shash\\anaconda3\\lib\\site-packages\\tensorflow\\python\\ops\\math_grad.py:1250: add_dispatch_support.<locals>.wrapper (from tensorflow.python.ops.array_ops) is deprecated and will be removed in a future version.\n",
      "Instructions for updating:\n",
      "Use tf.where in 2.0, which has the same broadcast rule as np.where\n",
      "Epoch 1/50\n",
      "289/289 [==============================] - 75s 260ms/step - loss: 5.4903 - acc: 0.5190 - val_loss: 6.0389 - val_acc: 0.5658\n",
      "Epoch 2/50\n",
      "289/289 [==============================] - 75s 260ms/step - loss: 4.8711 - acc: 0.6609 - val_loss: 6.4815 - val_acc: 0.4211\n",
      "Epoch 3/50\n",
      "289/289 [==============================] - 76s 262ms/step - loss: 5.1579 - acc: 0.6194 - val_loss: 8.8524 - val_acc: 0.2237\n",
      "Epoch 4/50\n",
      "289/289 [==============================] - 81s 280ms/step - loss: 4.8019 - acc: 0.6644 - val_loss: 6.2812 - val_acc: 0.5395\n",
      "Epoch 5/50\n",
      "289/289 [==============================] - 95s 327ms/step - loss: 4.7547 - acc: 0.6782 - val_loss: 5.9557 - val_acc: 0.6053\n",
      "Epoch 6/50\n",
      "289/289 [==============================] - 94s 324ms/step - loss: 4.7095 - acc: 0.6920 - val_loss: 6.2916 - val_acc: 0.5526\n",
      "Epoch 7/50\n",
      "289/289 [==============================] - 89s 307ms/step - loss: 4.8771 - acc: 0.6747 - val_loss: 6.2647 - val_acc: 0.5789\n",
      "Epoch 8/50\n",
      "289/289 [==============================] - 90s 312ms/step - loss: 4.7240 - acc: 0.6851 - val_loss: 6.0788 - val_acc: 0.6184\n",
      "Epoch 9/50\n",
      "289/289 [==============================] - 95s 327ms/step - loss: 5.1586 - acc: 0.6609 - val_loss: 6.3429 - val_acc: 0.5921\n",
      "Epoch 10/50\n",
      "289/289 [==============================] - 106s 368ms/step - loss: 4.9810 - acc: 0.6713 - val_loss: 7.4832 - val_acc: 0.3816\n",
      "Epoch 11/50\n",
      "289/289 [==============================] - 103s 357ms/step - loss: 4.8372 - acc: 0.6851 - val_loss: 6.3363 - val_acc: 0.5132\n",
      "Epoch 12/50\n",
      "289/289 [==============================] - 101s 349ms/step - loss: 4.6877 - acc: 0.6886 - val_loss: 6.1959 - val_acc: 0.5658\n",
      "Epoch 13/50\n",
      "289/289 [==============================] - 102s 351ms/step - loss: 4.7648 - acc: 0.6920 - val_loss: 6.3011 - val_acc: 0.5921\n",
      "Epoch 14/50\n",
      "289/289 [==============================] - 100s 345ms/step - loss: 4.9300 - acc: 0.6644 - val_loss: 6.6209 - val_acc: 0.5263\n",
      "Epoch 15/50\n",
      "289/289 [==============================] - 99s 344ms/step - loss: 4.6915 - acc: 0.6955 - val_loss: 6.0790 - val_acc: 0.6184\n",
      "Epoch 16/50\n",
      "289/289 [==============================] - 100s 346ms/step - loss: 4.7962 - acc: 0.6920 - val_loss: 6.3233 - val_acc: 0.5789\n",
      "Epoch 17/50\n",
      "289/289 [==============================] - 97s 335ms/step - loss: 4.9456 - acc: 0.6644 - val_loss: 6.7874 - val_acc: 0.5526\n",
      "Epoch 18/50\n",
      "289/289 [==============================] - 99s 342ms/step - loss: 4.8341 - acc: 0.6851 - val_loss: 6.9290 - val_acc: 0.5526\n",
      "Epoch 19/50\n",
      "289/289 [==============================] - 107s 370ms/step - loss: 4.7499 - acc: 0.6990 - val_loss: 6.4323 - val_acc: 0.5789\n",
      "Epoch 20/50\n",
      "289/289 [==============================] - 110s 380ms/step - loss: 4.7090 - acc: 0.7024 - val_loss: 6.3184 - val_acc: 0.5921\n",
      "Epoch 21/50\n",
      "289/289 [==============================] - 113s 391ms/step - loss: 4.7435 - acc: 0.6990 - val_loss: 6.8781 - val_acc: 0.5658\n",
      "Epoch 22/50\n",
      "289/289 [==============================] - 110s 382ms/step - loss: 4.8763 - acc: 0.6713 - val_loss: 7.4437 - val_acc: 0.4868\n",
      "Epoch 23/50\n",
      "289/289 [==============================] - 110s 380ms/step - loss: 4.8007 - acc: 0.6886 - val_loss: 6.1875 - val_acc: 0.5921\n",
      "Epoch 24/50\n",
      "289/289 [==============================] - 110s 382ms/step - loss: 4.6859 - acc: 0.7093 - val_loss: 6.5853 - val_acc: 0.5526\n",
      "Epoch 25/50\n",
      "289/289 [==============================] - 109s 377ms/step - loss: 4.6308 - acc: 0.7128 - val_loss: 6.4078 - val_acc: 0.5921\n",
      "Epoch 26/50\n",
      "289/289 [==============================] - 109s 378ms/step - loss: 4.8108 - acc: 0.6817 - val_loss: 6.3465 - val_acc: 0.5921\n",
      "Epoch 27/50\n",
      "289/289 [==============================] - 109s 376ms/step - loss: 4.7353 - acc: 0.6990 - val_loss: 6.8169 - val_acc: 0.5526\n",
      "Epoch 28/50\n",
      "289/289 [==============================] - 110s 380ms/step - loss: 4.7442 - acc: 0.7024 - val_loss: 6.0698 - val_acc: 0.5921\n",
      "Epoch 29/50\n",
      "289/289 [==============================] - 109s 378ms/step - loss: 4.6850 - acc: 0.7093 - val_loss: 6.1167 - val_acc: 0.5921\n",
      "Epoch 30/50\n",
      "289/289 [==============================] - 109s 378ms/step - loss: 5.9782 - acc: 0.6090 - val_loss: 6.8633 - val_acc: 0.5395\n",
      "Epoch 31/50\n",
      "289/289 [==============================] - 110s 380ms/step - loss: 4.8192 - acc: 0.6817 - val_loss: 6.9298 - val_acc: 0.5526\n",
      "Epoch 32/50\n",
      "289/289 [==============================] - 109s 376ms/step - loss: 4.8800 - acc: 0.6920 - val_loss: 6.2910 - val_acc: 0.5658\n",
      "Epoch 33/50\n",
      "289/289 [==============================] - 109s 378ms/step - loss: 4.7356 - acc: 0.6920 - val_loss: 6.7968 - val_acc: 0.5526\n",
      "Epoch 34/50\n",
      "289/289 [==============================] - 108s 374ms/step - loss: 4.6812 - acc: 0.7059 - val_loss: 6.8718 - val_acc: 0.5526\n",
      "Epoch 35/50\n",
      "289/289 [==============================] - 110s 381ms/step - loss: 4.6873 - acc: 0.7024 - val_loss: 6.4300 - val_acc: 0.5921\n",
      "Epoch 36/50\n",
      "289/289 [==============================] - 113s 391ms/step - loss: 4.7185 - acc: 0.6920 - val_loss: 6.0067 - val_acc: 0.6053\n",
      "Epoch 37/50\n",
      "289/289 [==============================] - 117s 405ms/step - loss: 4.6863 - acc: 0.7093 - val_loss: 6.3887 - val_acc: 0.5921\n",
      "Epoch 38/50\n",
      "289/289 [==============================] - 115s 398ms/step - loss: 4.6291 - acc: 0.7128 - val_loss: 6.3884 - val_acc: 0.5921\n",
      "Epoch 39/50\n",
      "289/289 [==============================] - 115s 396ms/step - loss: 4.6291 - acc: 0.7128 - val_loss: 6.3884 - val_acc: 0.5921\n",
      "Epoch 40/50\n",
      "289/289 [==============================] - 115s 397ms/step - loss: 4.6526 - acc: 0.7059 - val_loss: 6.6263 - val_acc: 0.5526\n",
      "Epoch 41/50\n",
      "289/289 [==============================] - 114s 396ms/step - loss: 4.9234 - acc: 0.6817 - val_loss: 6.4012 - val_acc: 0.5921\n",
      "Epoch 42/50\n",
      "289/289 [==============================] - 115s 396ms/step - loss: 4.6356 - acc: 0.7093 - val_loss: 9.2227 - val_acc: 0.3684\n",
      "Epoch 43/50\n",
      "289/289 [==============================] - 115s 397ms/step - loss: 4.6828 - acc: 0.7024 - val_loss: 6.4383 - val_acc: 0.5921\n",
      "Epoch 44/50\n",
      "289/289 [==============================] - 2175s 8s/step - loss: 4.6296 - acc: 0.7128 - val_loss: 6.3854 - val_acc: 0.5921\n",
      "Epoch 45/50\n",
      "289/289 [==============================] - 102s 354ms/step - loss: 4.6291 - acc: 0.7128 - val_loss: 6.3866 - val_acc: 0.5921\n",
      "Epoch 46/50\n",
      "289/289 [==============================] - 104s 360ms/step - loss: 4.7472 - acc: 0.6990 - val_loss: 6.3374 - val_acc: 0.6053\n",
      "Epoch 47/50\n",
      "289/289 [==============================] - 110s 381ms/step - loss: 4.9529 - acc: 0.6817 - val_loss: 6.4086 - val_acc: 0.5921\n",
      "Epoch 48/50\n",
      "289/289 [==============================] - 112s 389ms/step - loss: 4.7577 - acc: 0.7024 - val_loss: 6.6189 - val_acc: 0.5658\n",
      "Epoch 49/50\n",
      "289/289 [==============================] - 112s 389ms/step - loss: 4.6293 - acc: 0.7128 - val_loss: 6.4990 - val_acc: 0.5921\n",
      "Epoch 50/50\n",
      "289/289 [==============================] - 112s 389ms/step - loss: 4.7921 - acc: 0.6955 - val_loss: 6.4603 - val_acc: 0.5921\n"
     ]
    }
   ],
   "source": [
    "# fit the model\n",
    "r = model.fit_generator(\n",
    "  training_set,\n",
    "  validation_data=test_set,\n",
    "  epochs=50,\n",
    "  steps_per_epoch=len(training_set),\n",
    "  validation_steps=len(test_set)\n",
    ") "
   ]
  },
  {
   "cell_type": "code",
   "execution_count": 12,
   "metadata": {},
   "outputs": [
    {
     "data": {
      "image/png": "[encoded data removed]",
      "text/plain": [
       "<Figure size 432x288 with 1 Axes>"
      ]
     },
     "metadata": {
      "needs_background": "light"
     },
     "output_type": "display_data"
    },
    {
     "data": {
      "text/plain": [
       "<Figure size 432x288 with 0 Axes>"
      ]
     },
     "metadata": {},
     "output_type": "display_data"
    }
   ],
   "source": [
    "# loss\n",
    "plt.plot(r.history['loss'], label='train loss')\n",
    "plt.plot(r.history['val_loss'], label='val loss')\n",
    "plt.legend()\n",
    "plt.title('VGG16 Model loss')\n",
    "plt.xlabel('Epoch')\n",
    "plt.ylabel('Loss')\n",
    "plt.show()\n",
    "plt.savefig('LossVal_loss')"
   ]
  },
  {
   "cell_type": "code",
   "execution_count": 13,
   "metadata": {},
   "outputs": [
    {
     "data": {
      "image/png": "[encoded data removed]",
      "text/plain": [
       "<Figure size 432x288 with 1 Axes>"
      ]
     },
     "metadata": {
      "needs_background": "light"
     },
     "output_type": "display_data"
    },
    {
     "data": {
      "text/plain": [
       "<Figure size 432x288 with 0 Axes>"
      ]
     },
     "metadata": {},
     "output_type": "display_data"
    }
   ],
   "source": [
    "# accuracies\n",
    "plt.plot(r.history['acc'], label='train acc')\n",
    "plt.plot(r.history['val_acc'], label='val acc')\n",
    "plt.legend()\n",
    "plt.title('VGG16 Model Accuracy')\n",
    "plt.xlabel('Epoch')\n",
    "plt.ylabel('Accuracy')\n",
    "plt.show()\n",
    "plt.savefig('AccVal_acc')"
   ]
  },
  {
   "cell_type": "code",
   "execution_count": 14,
   "metadata": {},
   "outputs": [],
   "source": [
    "import tensorflow as tf\n",
    "from keras.models import load_model"
   ]
  },
  {
   "cell_type": "code",
   "execution_count": 15,
   "metadata": {},
   "outputs": [],
   "source": [
    "model.save(r'S:\\Summer Internships\\2020\\covidchest_vgg1.h5')"
   ]
  },
  {
   "cell_type": "code",
   "execution_count": 16,
   "metadata": {},
   "outputs": [],
   "source": [
    "from sklearn.metrics import confusion_matrix, classification_report, accuracy_score"
   ]
  },
  {
   "cell_type": "code",
   "execution_count": 17,
   "metadata": {},
   "outputs": [
    {
     "name": "stdout",
     "output_type": "stream",
     "text": [
      "76/76 [==============================] - 24s 314ms/step\n"
     ]
    }
   ],
   "source": [
    "predict = model.predict_generator(test_set, steps=len(test_set), verbose=1)\n",
    "test_label = test_set.classes"
   ]
  },
  {
   "cell_type": "code",
   "execution_count": 19,
   "metadata": {},
   "outputs": [
    {
     "name": "stdout",
     "output_type": "stream",
     "text": [
      "Confusion Matrix\n"
     ]
    },
    {
     "data": {
      "text/plain": [
       "array([[ 0,  0,  0,  0,  0,  0,  1],\n",
       "       [ 0,  0,  6, 13,  0,  0,  5],\n",
       "       [ 0,  0,  1,  6,  0,  0,  5],\n",
       "       [ 0,  0,  3, 11,  0,  0, 10],\n",
       "       [ 0,  0,  0,  1,  0,  0,  0],\n",
       "       [ 0,  0,  0,  0,  0,  0,  1],\n",
       "       [ 0,  0,  3,  4,  0,  0,  6]], dtype=int64)"
      ]
     },
     "execution_count": 19,
     "metadata": {},
     "output_type": "execute_result"
    }
   ],
   "source": [
    "#confusion matrix\n",
    "print('Confusion Matrix')\n",
    "confusion_matrix(test_label, predict.argmax(axis=1))"
   ]
  },
  {
   "cell_type": "code",
   "execution_count": 20,
   "metadata": {},
   "outputs": [
    {
     "ename": "NameError",
     "evalue": "name 'metrics' is not defined",
     "output_type": "error",
     "traceback": [
      "\u001b[1;31m---------------------------------------------------------------------------\u001b[0m",
      "\u001b[1;31mNameError\u001b[0m                                 Traceback (most recent call last)",
      "\u001b[1;32m<ipython-input-20-af21b31d8ea0>\u001b[0m in \u001b[0;36m<module>\u001b[1;34m\u001b[0m\n\u001b[0;32m      2\u001b[0m \u001b[1;32mimport\u001b[0m \u001b[0mmatplotlib\u001b[0m\u001b[1;33m.\u001b[0m\u001b[0mpyplot\u001b[0m \u001b[1;32mas\u001b[0m \u001b[0mplt\u001b[0m\u001b[1;33m\u001b[0m\u001b[1;33m\u001b[0m\u001b[0m\n\u001b[0;32m      3\u001b[0m \u001b[1;32mimport\u001b[0m \u001b[0mnumpy\u001b[0m \u001b[1;32mas\u001b[0m \u001b[0mnp\u001b[0m\u001b[1;33m\u001b[0m\u001b[1;33m\u001b[0m\u001b[0m\n\u001b[1;32m----> 4\u001b[1;33m \u001b[0mcm\u001b[0m \u001b[1;33m=\u001b[0m \u001b[0mmetrics\u001b[0m\u001b[1;33m.\u001b[0m\u001b[0mconfusion_matrix\u001b[0m\u001b[1;33m(\u001b[0m\u001b[0mtest_labels\u001b[0m\u001b[1;33m,\u001b[0m \u001b[0mpredict\u001b[0m\u001b[1;33m.\u001b[0m\u001b[0margmax\u001b[0m\u001b[1;33m(\u001b[0m\u001b[0maxis\u001b[0m\u001b[1;33m=\u001b[0m\u001b[1;36m1\u001b[0m\u001b[1;33m)\u001b[0m\u001b[1;33m)\u001b[0m\u001b[1;33m\u001b[0m\u001b[1;33m\u001b[0m\u001b[0m\n\u001b[0m\u001b[0;32m      5\u001b[0m \u001b[0mplt\u001b[0m\u001b[1;33m.\u001b[0m\u001b[0mimshow\u001b[0m\u001b[1;33m(\u001b[0m\u001b[0mcm\u001b[0m\u001b[1;33m,\u001b[0m \u001b[0mcmap\u001b[0m\u001b[1;33m=\u001b[0m\u001b[0mplt\u001b[0m\u001b[1;33m.\u001b[0m\u001b[0mcm\u001b[0m\u001b[1;33m.\u001b[0m\u001b[0mBlues\u001b[0m\u001b[1;33m)\u001b[0m\u001b[1;33m\u001b[0m\u001b[1;33m\u001b[0m\u001b[0m\n\u001b[0;32m      6\u001b[0m \u001b[0mplt\u001b[0m\u001b[1;33m.\u001b[0m\u001b[0mxlabel\u001b[0m\u001b[1;33m(\u001b[0m\u001b[1;34m\"Predicted labels\"\u001b[0m\u001b[1;33m)\u001b[0m\u001b[1;33m\u001b[0m\u001b[1;33m\u001b[0m\u001b[0m\n",
      "\u001b[1;31mNameError\u001b[0m: name 'metrics' is not defined"
     ]
    }
   ],
   "source": [
    "#plot for confusion matrix\n",
    "import matplotlib.pyplot as plt\n",
    "import numpy as np\n",
    "cm = metrics.confusion_matrix(test_labels, predict.argmax(axis=1))\n",
    "plt.imshow(cm, cmap=plt.cm.Blues)\n",
    "plt.xlabel(\"Predicted labels\")\n",
    "plt.ylabel(\"True labels\")\n",
    "plt.xticks([], [])\n",
    "plt.yticks([], [])\n",
    "plt.title('Confusion matrix ')\n",
    "plt.colorbar()\n",
    "plt.show()"
   ]
  },
  {
   "cell_type": "code",
   "execution_count": 21,
   "metadata": {},
   "outputs": [
    {
     "ename": "NameError",
     "evalue": "name 'test_labels' is not defined",
     "output_type": "error",
     "traceback": [
      "\u001b[1;31m---------------------------------------------------------------------------\u001b[0m",
      "\u001b[1;31mNameError\u001b[0m                                 Traceback (most recent call last)",
      "\u001b[1;32m<ipython-input-21-a75c017da23b>\u001b[0m in \u001b[0;36m<module>\u001b[1;34m\u001b[0m\n\u001b[0;32m      1\u001b[0m \u001b[1;31m#classification report\u001b[0m\u001b[1;33m\u001b[0m\u001b[1;33m\u001b[0m\u001b[1;33m\u001b[0m\u001b[0m\n\u001b[0;32m      2\u001b[0m \u001b[0mcr_labels\u001b[0m \u001b[1;33m=\u001b[0m \u001b[0mlist\u001b[0m\u001b[1;33m(\u001b[0m\u001b[0mtest_set\u001b[0m\u001b[1;33m.\u001b[0m\u001b[0mclass_indices\u001b[0m\u001b[1;33m.\u001b[0m\u001b[0mkeys\u001b[0m\u001b[1;33m(\u001b[0m\u001b[1;33m)\u001b[0m\u001b[1;33m)\u001b[0m\u001b[1;33m\u001b[0m\u001b[1;33m\u001b[0m\u001b[0m\n\u001b[1;32m----> 3\u001b[1;33m \u001b[0mclassification_report\u001b[0m\u001b[1;33m(\u001b[0m\u001b[0mtest_labels\u001b[0m\u001b[1;33m,\u001b[0m \u001b[0mpredict\u001b[0m\u001b[1;33m.\u001b[0m\u001b[0margmax\u001b[0m\u001b[1;33m(\u001b[0m\u001b[0maxis\u001b[0m\u001b[1;33m=\u001b[0m\u001b[1;36m1\u001b[0m\u001b[1;33m)\u001b[0m\u001b[1;33m,\u001b[0m \u001b[0mtarget_names\u001b[0m\u001b[1;33m=\u001b[0m\u001b[0mcr_labels\u001b[0m\u001b[1;33m)\u001b[0m\u001b[1;33m\u001b[0m\u001b[1;33m\u001b[0m\u001b[0m\n\u001b[0m",
      "\u001b[1;31mNameError\u001b[0m: name 'test_labels' is not defined"
     ]
    }
   ],
   "source": [
    "#classification report\n",
    "cr_labels = list(test_set.class_indices.keys())\n",
    "classification_report(test_labels, predict.argmax(axis=1), target_names=cr_labels)"
   ]
  },
  {
   "cell_type": "code",
   "execution_count": null,
   "metadata": {},
   "outputs": [],
   "source": [
    "#accuracy score\n",
    "preds = model.evaluate_generator(test_set)\n",
    "print (\"Loss = \" + str(preds[0]))\n",
    "print (\"Test Accuracy = \" + str(preds[1]))"
   ]
  },
  {
   "cell_type": "markdown",
   "metadata": {},
   "source": [
    "#### Done!"
   ]
  }
 ],
 "metadata": {
  "kernelspec": {
   "display_name": "Python 3",
   "language": "python",
   "name": "python3"
  },
  "language_info": {
   "codemirror_mode": {
    "name": "ipython",
    "version": 3
   },
   "file_extension": ".py",
   "mimetype": "text/x-python",
   "name": "python",
   "nbconvert_exporter": "python",
   "pygments_lexer": "ipython3",
   "version": "3.7.6"
  }
 },
 "nbformat": 4,
 "nbformat_minor": 4
}
