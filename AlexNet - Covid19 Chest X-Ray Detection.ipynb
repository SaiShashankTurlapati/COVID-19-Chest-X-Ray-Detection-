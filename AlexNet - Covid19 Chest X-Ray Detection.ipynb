{
 "cells": [
  {
   "cell_type": "code",
   "execution_count": 1,
   "metadata": {},
   "outputs": [
    {
     "name": "stderr",
     "output_type": "stream",
     "text": [
      "Using TensorFlow backend.\n",
      "C:\\Users\\shash\\anaconda3\\lib\\site-packages\\tensorflow\\python\\framework\\dtypes.py:516: FutureWarning: Passing (type, 1) or '1type' as a synonym of type is deprecated; in a future version of numpy, it will be understood as (type, (1,)) / '(1,)type'.\n",
      "  _np_qint8 = np.dtype([(\"qint8\", np.int8, 1)])\n",
      "C:\\Users\\shash\\anaconda3\\lib\\site-packages\\tensorflow\\python\\framework\\dtypes.py:517: FutureWarning: Passing (type, 1) or '1type' as a synonym of type is deprecated; in a future version of numpy, it will be understood as (type, (1,)) / '(1,)type'.\n",
      "  _np_quint8 = np.dtype([(\"quint8\", np.uint8, 1)])\n",
      "C:\\Users\\shash\\anaconda3\\lib\\site-packages\\tensorflow\\python\\framework\\dtypes.py:518: FutureWarning: Passing (type, 1) or '1type' as a synonym of type is deprecated; in a future version of numpy, it will be understood as (type, (1,)) / '(1,)type'.\n",
      "  _np_qint16 = np.dtype([(\"qint16\", np.int16, 1)])\n",
      "C:\\Users\\shash\\anaconda3\\lib\\site-packages\\tensorflow\\python\\framework\\dtypes.py:519: FutureWarning: Passing (type, 1) or '1type' as a synonym of type is deprecated; in a future version of numpy, it will be understood as (type, (1,)) / '(1,)type'.\n",
      "  _np_quint16 = np.dtype([(\"quint16\", np.uint16, 1)])\n",
      "C:\\Users\\shash\\anaconda3\\lib\\site-packages\\tensorflow\\python\\framework\\dtypes.py:520: FutureWarning: Passing (type, 1) or '1type' as a synonym of type is deprecated; in a future version of numpy, it will be understood as (type, (1,)) / '(1,)type'.\n",
      "  _np_qint32 = np.dtype([(\"qint32\", np.int32, 1)])\n",
      "C:\\Users\\shash\\anaconda3\\lib\\site-packages\\tensorflow\\python\\framework\\dtypes.py:525: FutureWarning: Passing (type, 1) or '1type' as a synonym of type is deprecated; in a future version of numpy, it will be understood as (type, (1,)) / '(1,)type'.\n",
      "  np_resource = np.dtype([(\"resource\", np.ubyte, 1)])\n",
      "C:\\Users\\shash\\anaconda3\\lib\\site-packages\\tensorboard\\compat\\tensorflow_stub\\dtypes.py:541: FutureWarning: Passing (type, 1) or '1type' as a synonym of type is deprecated; in a future version of numpy, it will be understood as (type, (1,)) / '(1,)type'.\n",
      "  _np_qint8 = np.dtype([(\"qint8\", np.int8, 1)])\n",
      "C:\\Users\\shash\\anaconda3\\lib\\site-packages\\tensorboard\\compat\\tensorflow_stub\\dtypes.py:542: FutureWarning: Passing (type, 1) or '1type' as a synonym of type is deprecated; in a future version of numpy, it will be understood as (type, (1,)) / '(1,)type'.\n",
      "  _np_quint8 = np.dtype([(\"quint8\", np.uint8, 1)])\n",
      "C:\\Users\\shash\\anaconda3\\lib\\site-packages\\tensorboard\\compat\\tensorflow_stub\\dtypes.py:543: FutureWarning: Passing (type, 1) or '1type' as a synonym of type is deprecated; in a future version of numpy, it will be understood as (type, (1,)) / '(1,)type'.\n",
      "  _np_qint16 = np.dtype([(\"qint16\", np.int16, 1)])\n",
      "C:\\Users\\shash\\anaconda3\\lib\\site-packages\\tensorboard\\compat\\tensorflow_stub\\dtypes.py:544: FutureWarning: Passing (type, 1) or '1type' as a synonym of type is deprecated; in a future version of numpy, it will be understood as (type, (1,)) / '(1,)type'.\n",
      "  _np_quint16 = np.dtype([(\"quint16\", np.uint16, 1)])\n",
      "C:\\Users\\shash\\anaconda3\\lib\\site-packages\\tensorboard\\compat\\tensorflow_stub\\dtypes.py:545: FutureWarning: Passing (type, 1) or '1type' as a synonym of type is deprecated; in a future version of numpy, it will be understood as (type, (1,)) / '(1,)type'.\n",
      "  _np_qint32 = np.dtype([(\"qint32\", np.int32, 1)])\n",
      "C:\\Users\\shash\\anaconda3\\lib\\site-packages\\tensorboard\\compat\\tensorflow_stub\\dtypes.py:550: FutureWarning: Passing (type, 1) or '1type' as a synonym of type is deprecated; in a future version of numpy, it will be understood as (type, (1,)) / '(1,)type'.\n",
      "  np_resource = np.dtype([(\"resource\", np.ubyte, 1)])\n"
     ]
    }
   ],
   "source": [
    "import numpy as np\n",
    "from keras import layers\n",
    "from keras.layers import Input, Dense, Activation,BatchNormalization, Flatten, Conv2D, MaxPooling2D\n",
    "from keras import Model\n",
    "from keras.models import load_model\n",
    "from keras.preprocessing import image\n",
    "from keras.preprocessing.image import ImageDataGenerator\n",
    "import keras.backend as K\n",
    "K.set_image_data_format('channels_last')\n",
    "import matplotlib.pyplot as plt\n",
    "from matplotlib.pyplot import imshow\n",
    "\n",
    "import warnings\n",
    "warnings.filterwarnings('ignore')"
   ]
  },
  {
   "cell_type": "code",
   "execution_count": 2,
   "metadata": {},
   "outputs": [
    {
     "name": "stdout",
     "output_type": "stream",
     "text": [
      "Found 289 images belonging to 7 classes.\n",
      "Found 76 images belonging to 7 classes.\n"
     ]
    }
   ],
   "source": [
    "path = r'S:\\VIT AP\\SummerInternship1\\COVID 19\\train'\n",
    "train_datagen = ImageDataGenerator(rescale=1. / 255)\n",
    "train = train_datagen.flow_from_directory(path, target_size=(224,224), class_mode='categorical')\n",
    "\n",
    "path_test = r'S:\\VIT AP\\SummerInternship1\\COVID 19\\test'\n",
    "test_datagen = ImageDataGenerator(rescale=1. / 255)\n",
    "test = test_datagen.flow_from_directory(path_test, target_size=(224,224), class_mode='categorical')"
   ]
  },
  {
   "cell_type": "code",
   "execution_count": 3,
   "metadata": {},
   "outputs": [],
   "source": [
    "def AlexNet(input_shape):\n",
    "    \n",
    "    X_input = Input(input_shape)\n",
    "    \n",
    "    X = Conv2D(96,(11,11),strides = 4,name=\"conv0\")(X_input)\n",
    "    X = BatchNormalization(axis = 3 , name = \"bn0\")(X)\n",
    "    X = Activation('relu')(X)\n",
    "    \n",
    "    X = MaxPooling2D((3,3),strides = 2,name = 'max0')(X)\n",
    "    \n",
    "    X = Conv2D(256,(5,5),padding = 'same' , name = 'conv1')(X)\n",
    "    X = BatchNormalization(axis = 3 ,name='bn1')(X)\n",
    "    X = Activation('relu')(X)\n",
    "    \n",
    "    X = MaxPooling2D((3,3),strides = 2,name = 'max1')(X)\n",
    "    \n",
    "    X = Conv2D(384, (3,3) , padding = 'same' , name='conv2')(X)\n",
    "    X = BatchNormalization(axis = 3, name = 'bn2')(X)\n",
    "    X = Activation('relu')(X)\n",
    "    \n",
    "    X = Conv2D(384, (3,3) , padding = 'same' , name='conv3')(X)\n",
    "    X = BatchNormalization(axis = 3, name = 'bn3')(X)\n",
    "    X = Activation('relu')(X)\n",
    "    \n",
    "    X = Conv2D(256, (3,3) , padding = 'same' , name='conv4')(X)\n",
    "    X = BatchNormalization(axis = 3, name = 'bn4')(X)\n",
    "    X = Activation('relu')(X)\n",
    "    \n",
    "    X = MaxPooling2D((3,3),strides = 2,name = 'max2')(X)\n",
    "    \n",
    "    X = Flatten()(X)\n",
    "    \n",
    "    X = Dense(4096, activation = 'relu', name = \"fc0\")(X)\n",
    "    \n",
    "    X = Dense(4096, activation = 'relu', name = 'fc1')(X) \n",
    "    \n",
    "    X = Dense(7,activation='softmax',name = 'fc2')(X)\n",
    "    \n",
    "    model = Model(inputs = X_input, outputs = X, name='AlexNet')\n",
    "    return model"
   ]
  },
  {
   "cell_type": "code",
   "execution_count": 4,
   "metadata": {},
   "outputs": [
    {
     "name": "stdout",
     "output_type": "stream",
     "text": [
      "WARNING:tensorflow:From C:\\Users\\shash\\anaconda3\\lib\\site-packages\\keras\\backend\\tensorflow_backend.py:74: The name tf.get_default_graph is deprecated. Please use tf.compat.v1.get_default_graph instead.\n",
      "\n",
      "WARNING:tensorflow:From C:\\Users\\shash\\anaconda3\\lib\\site-packages\\keras\\backend\\tensorflow_backend.py:517: The name tf.placeholder is deprecated. Please use tf.compat.v1.placeholder instead.\n",
      "\n",
      "WARNING:tensorflow:From C:\\Users\\shash\\anaconda3\\lib\\site-packages\\keras\\backend\\tensorflow_backend.py:4138: The name tf.random_uniform is deprecated. Please use tf.random.uniform instead.\n",
      "\n",
      "WARNING:tensorflow:From C:\\Users\\shash\\anaconda3\\lib\\site-packages\\keras\\backend\\tensorflow_backend.py:174: The name tf.get_default_session is deprecated. Please use tf.compat.v1.get_default_session instead.\n",
      "\n",
      "WARNING:tensorflow:From C:\\Users\\shash\\anaconda3\\lib\\site-packages\\keras\\backend\\tensorflow_backend.py:181: The name tf.ConfigProto is deprecated. Please use tf.compat.v1.ConfigProto instead.\n",
      "\n",
      "WARNING:tensorflow:From C:\\Users\\shash\\anaconda3\\lib\\site-packages\\keras\\backend\\tensorflow_backend.py:1834: The name tf.nn.fused_batch_norm is deprecated. Please use tf.compat.v1.nn.fused_batch_norm instead.\n",
      "\n",
      "WARNING:tensorflow:From C:\\Users\\shash\\anaconda3\\lib\\site-packages\\keras\\backend\\tensorflow_backend.py:3976: The name tf.nn.max_pool is deprecated. Please use tf.nn.max_pool2d instead.\n",
      "\n",
      "_________________________________________________________________\n",
      "Layer (type)                 Output Shape              Param #   \n",
      "=================================================================\n",
      "input_1 (InputLayer)         (None, 224, 224, 3)       0         \n",
      "_________________________________________________________________\n",
      "conv0 (Conv2D)               (None, 54, 54, 96)        34944     \n",
      "_________________________________________________________________\n",
      "bn0 (BatchNormalization)     (None, 54, 54, 96)        384       \n",
      "_________________________________________________________________\n",
      "activation_1 (Activation)    (None, 54, 54, 96)        0         \n",
      "_________________________________________________________________\n",
      "max0 (MaxPooling2D)          (None, 26, 26, 96)        0         \n",
      "_________________________________________________________________\n",
      "conv1 (Conv2D)               (None, 26, 26, 256)       614656    \n",
      "_________________________________________________________________\n",
      "bn1 (BatchNormalization)     (None, 26, 26, 256)       1024      \n",
      "_________________________________________________________________\n",
      "activation_2 (Activation)    (None, 26, 26, 256)       0         \n",
      "_________________________________________________________________\n",
      "max1 (MaxPooling2D)          (None, 12, 12, 256)       0         \n",
      "_________________________________________________________________\n",
      "conv2 (Conv2D)               (None, 12, 12, 384)       885120    \n",
      "_________________________________________________________________\n",
      "bn2 (BatchNormalization)     (None, 12, 12, 384)       1536      \n",
      "_________________________________________________________________\n",
      "activation_3 (Activation)    (None, 12, 12, 384)       0         \n",
      "_________________________________________________________________\n",
      "conv3 (Conv2D)               (None, 12, 12, 384)       1327488   \n",
      "_________________________________________________________________\n",
      "bn3 (BatchNormalization)     (None, 12, 12, 384)       1536      \n",
      "_________________________________________________________________\n",
      "activation_4 (Activation)    (None, 12, 12, 384)       0         \n",
      "_________________________________________________________________\n",
      "conv4 (Conv2D)               (None, 12, 12, 256)       884992    \n",
      "_________________________________________________________________\n",
      "bn4 (BatchNormalization)     (None, 12, 12, 256)       1024      \n",
      "_________________________________________________________________\n",
      "activation_5 (Activation)    (None, 12, 12, 256)       0         \n",
      "_________________________________________________________________\n",
      "max2 (MaxPooling2D)          (None, 5, 5, 256)         0         \n",
      "_________________________________________________________________\n",
      "flatten_1 (Flatten)          (None, 6400)              0         \n",
      "_________________________________________________________________\n",
      "fc0 (Dense)                  (None, 4096)              26218496  \n",
      "_________________________________________________________________\n",
      "fc1 (Dense)                  (None, 4096)              16781312  \n",
      "_________________________________________________________________\n",
      "fc2 (Dense)                  (None, 7)                 28679     \n",
      "=================================================================\n",
      "Total params: 46,781,191\n",
      "Trainable params: 46,778,439\n",
      "Non-trainable params: 2,752\n",
      "_________________________________________________________________\n"
     ]
    }
   ],
   "source": [
    "model = AlexNet(train[0][0].shape[1:])\n",
    "model.summary()"
   ]
  },
  {
   "cell_type": "code",
   "execution_count": 5,
   "metadata": {},
   "outputs": [
    {
     "name": "stdout",
     "output_type": "stream",
     "text": [
      "WARNING:tensorflow:From C:\\Users\\shash\\anaconda3\\lib\\site-packages\\keras\\optimizers.py:790: The name tf.train.Optimizer is deprecated. Please use tf.compat.v1.train.Optimizer instead.\n",
      "\n",
      "WARNING:tensorflow:From C:\\Users\\shash\\anaconda3\\lib\\site-packages\\tensorflow\\python\\ops\\math_grad.py:1250: add_dispatch_support.<locals>.wrapper (from tensorflow.python.ops.array_ops) is deprecated and will be removed in a future version.\n",
      "Instructions for updating:\n",
      "Use tf.where in 2.0, which has the same broadcast rule as np.where\n",
      "Epoch 1/100\n",
      "10/10 [==============================] - 41s 4s/step - loss: 1.3210 - acc: 0.5582 - val_loss: 1.5773 - val_acc: 0.3158\n",
      "Epoch 2/100\n",
      "10/10 [==============================] - 39s 4s/step - loss: 0.6471 - acc: 0.8138 - val_loss: 1.2650 - val_acc: 0.4342\n",
      "Epoch 3/100\n",
      "10/10 [==============================] - 40s 4s/step - loss: 0.5148 - acc: 0.7762 - val_loss: 1.4272 - val_acc: 0.4079\n",
      "Epoch 4/100\n",
      "10/10 [==============================] - 39s 4s/step - loss: 0.4235 - acc: 0.8454 - val_loss: 1.6979 - val_acc: 0.3816\n",
      "Epoch 5/100\n",
      "10/10 [==============================] - 40s 4s/step - loss: 0.3368 - acc: 0.8959 - val_loss: 1.7358 - val_acc: 0.4211\n",
      "Epoch 6/100\n",
      "10/10 [==============================] - 42s 4s/step - loss: 0.2237 - acc: 0.9495 - val_loss: 2.3099 - val_acc: 0.3553\n",
      "Epoch 7/100\n",
      "10/10 [==============================] - 41s 4s/step - loss: 0.3371 - acc: 0.8706 - val_loss: 1.7815 - val_acc: 0.3684\n",
      "Epoch 8/100\n",
      "10/10 [==============================] - 41s 4s/step - loss: 0.3209 - acc: 0.8832 - val_loss: 2.1347 - val_acc: 0.4079\n",
      "Epoch 9/100\n",
      "10/10 [==============================] - 40s 4s/step - loss: 0.2275 - acc: 0.9116 - val_loss: 1.5493 - val_acc: 0.4868\n",
      "Epoch 10/100\n",
      "10/10 [==============================] - 40s 4s/step - loss: 0.1288 - acc: 0.9621 - val_loss: 1.2396 - val_acc: 0.5263\n",
      "Epoch 11/100\n",
      "10/10 [==============================] - 40s 4s/step - loss: 0.0716 - acc: 0.9874 - val_loss: 1.6034 - val_acc: 0.5132\n",
      "Epoch 12/100\n",
      "10/10 [==============================] - 40s 4s/step - loss: 0.0342 - acc: 1.0000 - val_loss: 1.5711 - val_acc: 0.4342\n",
      "Epoch 13/100\n",
      "10/10 [==============================] - 40s 4s/step - loss: 0.3783 - acc: 0.9088 - val_loss: 3.6247 - val_acc: 0.3816\n",
      "Epoch 14/100\n",
      "10/10 [==============================] - 40s 4s/step - loss: 1.0371 - acc: 0.6784 - val_loss: 9.1702 - val_acc: 0.1711\n",
      "Epoch 15/100\n",
      "10/10 [==============================] - 39s 4s/step - loss: 0.7205 - acc: 0.6813 - val_loss: 13.4325 - val_acc: 0.1579\n",
      "Epoch 16/100\n",
      "10/10 [==============================] - 39s 4s/step - loss: 0.8040 - acc: 0.7131 - val_loss: 7.7911 - val_acc: 0.2763\n",
      "Epoch 17/100\n",
      "10/10 [==============================] - 39s 4s/step - loss: 0.5359 - acc: 0.7980 - val_loss: 11.0777 - val_acc: 0.1711\n",
      "Epoch 18/100\n",
      "10/10 [==============================] - 39s 4s/step - loss: 0.4356 - acc: 0.8454 - val_loss: 8.8419 - val_acc: 0.1842\n",
      "Epoch 19/100\n",
      "10/10 [==============================] - 38s 4s/step - loss: 0.3171 - acc: 0.8832 - val_loss: 6.1810 - val_acc: 0.2632\n",
      "Epoch 20/100\n",
      "10/10 [==============================] - 39s 4s/step - loss: 0.2409 - acc: 0.9180 - val_loss: 4.1330 - val_acc: 0.3947\n",
      "Epoch 21/100\n",
      "10/10 [==============================] - 40s 4s/step - loss: 0.1589 - acc: 0.9558 - val_loss: 2.4381 - val_acc: 0.4211\n",
      "Epoch 22/100\n",
      "10/10 [==============================] - 39s 4s/step - loss: 0.1005 - acc: 0.9716 - val_loss: 1.9204 - val_acc: 0.4211\n",
      "Epoch 23/100\n",
      "10/10 [==============================] - 39s 4s/step - loss: 0.0716 - acc: 0.9811 - val_loss: 1.4554 - val_acc: 0.5395\n",
      "Epoch 24/100\n",
      "10/10 [==============================] - 39s 4s/step - loss: 0.0459 - acc: 1.0000 - val_loss: 1.2644 - val_acc: 0.5921\n",
      "Epoch 25/100\n",
      "10/10 [==============================] - 40s 4s/step - loss: 0.0640 - acc: 0.9968 - val_loss: 1.3059 - val_acc: 0.5658\n",
      "Epoch 26/100\n",
      "10/10 [==============================] - 40s 4s/step - loss: 0.5204 - acc: 0.8362 - val_loss: 2.0080 - val_acc: 0.4211\n",
      "Epoch 27/100\n",
      "10/10 [==============================] - 39s 4s/step - loss: 1.1260 - acc: 0.7539 - val_loss: 4.0185 - val_acc: 0.3553\n",
      "Epoch 28/100\n",
      "10/10 [==============================] - 40s 4s/step - loss: 0.5734 - acc: 0.8012 - val_loss: 12.8582 - val_acc: 0.1579\n",
      "Epoch 29/100\n",
      "10/10 [==============================] - 41s 4s/step - loss: 0.3214 - acc: 0.8864 - val_loss: 12.7405 - val_acc: 0.1579\n",
      "Epoch 30/100\n",
      "10/10 [==============================] - 40s 4s/step - loss: 0.2315 - acc: 0.9369 - val_loss: 7.3985 - val_acc: 0.1711\n",
      "Epoch 31/100\n",
      "10/10 [==============================] - 41s 4s/step - loss: 0.2296 - acc: 0.9243 - val_loss: 2.3129 - val_acc: 0.3421\n",
      "Epoch 32/100\n",
      "10/10 [==============================] - 40s 4s/step - loss: 0.1957 - acc: 0.9306 - val_loss: 1.8252 - val_acc: 0.3947\n",
      "Epoch 33/100\n",
      "10/10 [==============================] - 40s 4s/step - loss: 0.1773 - acc: 0.9432 - val_loss: 1.7220 - val_acc: 0.4342\n",
      "Epoch 34/100\n",
      "10/10 [==============================] - 40s 4s/step - loss: 0.1270 - acc: 0.9527 - val_loss: 1.9098 - val_acc: 0.4605\n",
      "Epoch 35/100\n",
      "10/10 [==============================] - 38s 4s/step - loss: 0.0856 - acc: 0.9779 - val_loss: 1.9932 - val_acc: 0.4605\n",
      "Epoch 36/100\n",
      "10/10 [==============================] - 41s 4s/step - loss: 0.0585 - acc: 0.9748 - val_loss: 1.9673 - val_acc: 0.4737\n",
      "Epoch 37/100\n",
      "10/10 [==============================] - 39s 4s/step - loss: 0.0475 - acc: 0.9905 - val_loss: 2.0553 - val_acc: 0.4474\n",
      "Epoch 38/100\n",
      "10/10 [==============================] - 41s 4s/step - loss: 0.1342 - acc: 0.9088 - val_loss: 1.5714 - val_acc: 0.5263\n",
      "Epoch 39/100\n",
      "10/10 [==============================] - 39s 4s/step - loss: 0.5116 - acc: 0.8173 - val_loss: 1.5261 - val_acc: 0.5526\n",
      "Epoch 40/100\n",
      "10/10 [==============================] - 40s 4s/step - loss: 0.6471 - acc: 0.7854 - val_loss: 13.5731 - val_acc: 0.1579\n",
      "Epoch 41/100\n",
      "10/10 [==============================] - 39s 4s/step - loss: 0.4291 - acc: 0.8548 - val_loss: 7.3119 - val_acc: 0.2237\n",
      "Epoch 42/100\n",
      "10/10 [==============================] - 40s 4s/step - loss: 0.2433 - acc: 0.9148 - val_loss: 13.2227 - val_acc: 0.1579\n",
      "Epoch 43/100\n",
      "10/10 [==============================] - 39s 4s/step - loss: 0.1614 - acc: 0.9495 - val_loss: 13.2369 - val_acc: 0.1579\n",
      "Epoch 44/100\n",
      "10/10 [==============================] - 39s 4s/step - loss: 0.1178 - acc: 0.9779 - val_loss: 12.1969 - val_acc: 0.1579\n",
      "Epoch 45/100\n",
      "10/10 [==============================] - 39s 4s/step - loss: 0.1054 - acc: 0.9621 - val_loss: 11.1355 - val_acc: 0.1579\n",
      "Epoch 46/100\n",
      "10/10 [==============================] - 41s 4s/step - loss: 0.1102 - acc: 0.9621 - val_loss: 7.4054 - val_acc: 0.1842\n",
      "Epoch 47/100\n",
      "10/10 [==============================] - 39s 4s/step - loss: 0.0784 - acc: 0.9748 - val_loss: 4.3715 - val_acc: 0.3026\n",
      "Epoch 48/100\n",
      "10/10 [==============================] - 41s 4s/step - loss: 0.0643 - acc: 0.9779 - val_loss: 3.3800 - val_acc: 0.3553\n",
      "Epoch 49/100\n",
      "10/10 [==============================] - 41s 4s/step - loss: 0.0478 - acc: 0.9937 - val_loss: 3.1307 - val_acc: 0.3553\n",
      "Epoch 50/100\n",
      "10/10 [==============================] - 42s 4s/step - loss: 0.0211 - acc: 1.0000 - val_loss: 3.0752 - val_acc: 0.3816\n",
      "Epoch 51/100\n",
      "10/10 [==============================] - 42s 4s/step - loss: 0.0586 - acc: 0.9968 - val_loss: 2.9467 - val_acc: 0.4079\n",
      "Epoch 52/100\n",
      "10/10 [==============================] - 41s 4s/step - loss: 0.2307 - acc: 0.9274 - val_loss: 6.3309 - val_acc: 0.1974\n",
      "Epoch 53/100\n",
      "10/10 [==============================] - 43s 4s/step - loss: 0.1693 - acc: 0.9558 - val_loss: 8.6023 - val_acc: 0.1974\n",
      "Epoch 54/100\n",
      "10/10 [==============================] - 40s 4s/step - loss: 0.0895 - acc: 0.9653 - val_loss: 7.9340 - val_acc: 0.1974\n",
      "Epoch 55/100\n",
      "10/10 [==============================] - 41s 4s/step - loss: 0.0694 - acc: 0.9905 - val_loss: 4.5283 - val_acc: 0.2763\n",
      "Epoch 56/100\n",
      "10/10 [==============================] - 42s 4s/step - loss: 0.0225 - acc: 1.0000 - val_loss: 3.9587 - val_acc: 0.2895\n",
      "Epoch 57/100\n",
      "10/10 [==============================] - 41s 4s/step - loss: 0.0179 - acc: 1.0000 - val_loss: 3.7623 - val_acc: 0.3421\n",
      "Epoch 58/100\n",
      "10/10 [==============================] - 42s 4s/step - loss: 0.0249 - acc: 0.9968 - val_loss: 3.2480 - val_acc: 0.3553\n",
      "Epoch 59/100\n"
     ]
    },
    {
     "name": "stdout",
     "output_type": "stream",
     "text": [
      "10/10 [==============================] - 41s 4s/step - loss: 0.0318 - acc: 0.9905 - val_loss: 3.1781 - val_acc: 0.4079\n",
      "Epoch 60/100\n",
      "10/10 [==============================] - 41s 4s/step - loss: 0.0134 - acc: 1.0000 - val_loss: 3.6554 - val_acc: 0.3816\n",
      "Epoch 61/100\n",
      "10/10 [==============================] - 41s 4s/step - loss: 0.0103 - acc: 1.0000 - val_loss: 3.5032 - val_acc: 0.4079\n",
      "Epoch 62/100\n",
      "10/10 [==============================] - 41s 4s/step - loss: 0.0049 - acc: 1.0000 - val_loss: 3.2325 - val_acc: 0.4079\n",
      "Epoch 63/100\n",
      "10/10 [==============================] - 40s 4s/step - loss: 0.0042 - acc: 1.0000 - val_loss: 3.0589 - val_acc: 0.4211\n",
      "Epoch 64/100\n",
      "10/10 [==============================] - 41s 4s/step - loss: 0.0036 - acc: 1.0000 - val_loss: 3.0384 - val_acc: 0.4474\n",
      "Epoch 65/100\n",
      "10/10 [==============================] - 41s 4s/step - loss: 0.0037 - acc: 1.0000 - val_loss: 3.0325 - val_acc: 0.4474\n",
      "Epoch 66/100\n",
      "10/10 [==============================] - 40s 4s/step - loss: 0.0042 - acc: 1.0000 - val_loss: 3.0587 - val_acc: 0.4474\n",
      "Epoch 67/100\n",
      "10/10 [==============================] - 41s 4s/step - loss: 0.0030 - acc: 1.0000 - val_loss: 3.0155 - val_acc: 0.4605\n",
      "Epoch 68/100\n",
      "10/10 [==============================] - 41s 4s/step - loss: 0.0047 - acc: 1.0000 - val_loss: 2.9285 - val_acc: 0.4605\n",
      "Epoch 69/100\n",
      "10/10 [==============================] - 42s 4s/step - loss: 0.0027 - acc: 1.0000 - val_loss: 2.5892 - val_acc: 0.5000\n",
      "Epoch 70/100\n",
      "10/10 [==============================] - 2100s 210s/step - loss: 0.0029 - acc: 1.0000 - val_loss: 2.6500 - val_acc: 0.5000\n",
      "Epoch 71/100\n",
      "10/10 [==============================] - 39s 4s/step - loss: 0.0029 - acc: 1.0000 - val_loss: 2.8115 - val_acc: 0.4868\n",
      "Epoch 72/100\n",
      "10/10 [==============================] - 37s 4s/step - loss: 0.0023 - acc: 1.0000 - val_loss: 2.8202 - val_acc: 0.4737\n",
      "Epoch 73/100\n",
      "10/10 [==============================] - 38s 4s/step - loss: 0.0018 - acc: 1.0000 - val_loss: 2.7117 - val_acc: 0.4737\n",
      "Epoch 74/100\n",
      "10/10 [==============================] - 36s 4s/step - loss: 0.0015 - acc: 1.0000 - val_loss: 2.6365 - val_acc: 0.4868\n",
      "Epoch 75/100\n",
      "10/10 [==============================] - 37s 4s/step - loss: 0.3791 - acc: 0.9088 - val_loss: 1.9872 - val_acc: 0.5132\n",
      "Epoch 76/100\n",
      "10/10 [==============================] - 36s 4s/step - loss: 1.5506 - acc: 0.7005 - val_loss: 10.1616 - val_acc: 0.1579\n",
      "Epoch 77/100\n",
      "10/10 [==============================] - 39s 4s/step - loss: 0.6911 - acc: 0.7791 - val_loss: 6.9649 - val_acc: 0.1579\n",
      "Epoch 78/100\n",
      "10/10 [==============================] - 40s 4s/step - loss: 0.3926 - acc: 0.8612 - val_loss: 13.5431 - val_acc: 0.1579\n",
      "Epoch 79/100\n",
      "10/10 [==============================] - 41s 4s/step - loss: 0.2173 - acc: 0.9400 - val_loss: 13.5039 - val_acc: 0.1579\n",
      "Epoch 80/100\n",
      "10/10 [==============================] - 41s 4s/step - loss: 0.1603 - acc: 0.9558 - val_loss: 12.9546 - val_acc: 0.1579\n",
      "Epoch 81/100\n",
      "10/10 [==============================] - 41s 4s/step - loss: 0.1335 - acc: 0.9716 - val_loss: 9.5773 - val_acc: 0.1974\n",
      "Epoch 82/100\n",
      "10/10 [==============================] - 41s 4s/step - loss: 0.1116 - acc: 0.9684 - val_loss: 9.3511 - val_acc: 0.1579\n",
      "Epoch 83/100\n",
      "10/10 [==============================] - 40s 4s/step - loss: 0.0867 - acc: 0.9684 - val_loss: 7.6094 - val_acc: 0.2632\n",
      "Epoch 84/100\n",
      "10/10 [==============================] - 41s 4s/step - loss: 0.0765 - acc: 0.9811 - val_loss: 6.1073 - val_acc: 0.2895\n",
      "Epoch 85/100\n",
      "10/10 [==============================] - 41s 4s/step - loss: 0.0526 - acc: 0.9874 - val_loss: 6.1517 - val_acc: 0.2895\n",
      "Epoch 86/100\n",
      "10/10 [==============================] - 40s 4s/step - loss: 0.0388 - acc: 0.9968 - val_loss: 6.5964 - val_acc: 0.2632\n",
      "Epoch 87/100\n",
      "10/10 [==============================] - 41s 4s/step - loss: 0.2157 - acc: 0.9056 - val_loss: 7.7824 - val_acc: 0.2632\n",
      "Epoch 88/100\n",
      "10/10 [==============================] - 32s 3s/step - loss: 0.8435 - acc: 0.8012 - val_loss: 5.5998 - val_acc: 0.1974\n",
      "Epoch 89/100\n",
      "10/10 [==============================] - 26s 3s/step - loss: 0.4366 - acc: 0.8454 - val_loss: 5.7691 - val_acc: 0.2632\n",
      "Epoch 90/100\n",
      "10/10 [==============================] - 14s 1s/step - loss: 0.2279 - acc: 0.9022 - val_loss: 12.0449 - val_acc: 0.1711\n",
      "Epoch 91/100\n",
      "10/10 [==============================] - 13s 1s/step - loss: 0.1368 - acc: 0.9400 - val_loss: 9.4329 - val_acc: 0.1842\n",
      "Epoch 92/100\n",
      "10/10 [==============================] - 14s 1s/step - loss: 0.0962 - acc: 0.9684 - val_loss: 8.7530 - val_acc: 0.1974\n",
      "Epoch 93/100\n",
      "10/10 [==============================] - 14s 1s/step - loss: 0.0815 - acc: 0.9842 - val_loss: 6.9334 - val_acc: 0.2763\n",
      "Epoch 94/100\n",
      "10/10 [==============================] - 14s 1s/step - loss: 0.0437 - acc: 1.0000 - val_loss: 6.9005 - val_acc: 0.2763\n",
      "Epoch 95/100\n",
      "10/10 [==============================] - 14s 1s/step - loss: 0.0923 - acc: 0.9748 - val_loss: 4.3915 - val_acc: 0.3421\n",
      "Epoch 96/100\n",
      "10/10 [==============================] - 14s 1s/step - loss: 0.2368 - acc: 0.9053 - val_loss: 2.9618 - val_acc: 0.4605\n",
      "Epoch 97/100\n",
      "10/10 [==============================] - 13s 1s/step - loss: 0.1408 - acc: 0.9400 - val_loss: 2.0422 - val_acc: 0.3816\n",
      "Epoch 98/100\n",
      "10/10 [==============================] - 14s 1s/step - loss: 0.0646 - acc: 0.9842 - val_loss: 2.0630 - val_acc: 0.3947\n",
      "Epoch 99/100\n",
      "10/10 [==============================] - 13s 1s/step - loss: 0.0536 - acc: 0.9874 - val_loss: 2.0591 - val_acc: 0.4342\n",
      "Epoch 100/100\n",
      "10/10 [==============================] - 14s 1s/step - loss: 0.0308 - acc: 0.9937 - val_loss: 2.2746 - val_acc: 0.4605\n"
     ]
    }
   ],
   "source": [
    "model.compile(optimizer = 'adam' , loss = 'categorical_crossentropy' , metrics=['accuracy'])\n",
    "#alex.fit_generator(train,epochs=1)\n",
    "r = model.fit_generator(\n",
    "  train,\n",
    "  validation_data=test,\n",
    "  epochs=100,\n",
    "  steps_per_epoch=len(train),\n",
    "  validation_steps=len(test)\n",
    ") "
   ]
  },
  {
   "cell_type": "code",
   "execution_count": 6,
   "metadata": {},
   "outputs": [
    {
     "data": {
      "image/png": "[encoded data removed]",
      "text/plain": [
       "<Figure size 432x288 with 1 Axes>"
      ]
     },
     "metadata": {
      "needs_background": "light"
     },
     "output_type": "display_data"
    },
    {
     "data": {
      "text/plain": [
       "<Figure size 432x288 with 0 Axes>"
      ]
     },
     "metadata": {},
     "output_type": "display_data"
    }
   ],
   "source": [
    "# loss\n",
    "plt.plot(r.history['loss'], label='train loss')\n",
    "plt.plot(r.history['val_loss'], label='val loss')\n",
    "plt.legend()\n",
    "plt.title('VGG16 Model loss')\n",
    "plt.xlabel('Epoch')\n",
    "plt.ylabel('Loss')\n",
    "plt.show()\n",
    "plt.savefig('LossVal_loss')"
   ]
  },
  {
   "cell_type": "code",
   "execution_count": 7,
   "metadata": {},
   "outputs": [
    {
     "data": {
      "image/png": "[encoded data removed]",
      "text/plain": [
       "<Figure size 432x288 with 1 Axes>"
      ]
     },
     "metadata": {
      "needs_background": "light"
     },
     "output_type": "display_data"
    },
    {
     "data": {
      "text/plain": [
       "<Figure size 432x288 with 0 Axes>"
      ]
     },
     "metadata": {},
     "output_type": "display_data"
    }
   ],
   "source": [
    "# accuracies\n",
    "plt.plot(r.history['acc'], label='train acc')\n",
    "plt.plot(r.history['val_acc'], label='val acc')\n",
    "plt.legend()\n",
    "plt.title('VGG16 Model Accuracy')\n",
    "plt.xlabel('Epoch')\n",
    "plt.ylabel('Accuracy')\n",
    "plt.show()\n",
    "plt.savefig('AccVal_acc')"
   ]
  },
  {
   "cell_type": "code",
   "execution_count": 8,
   "metadata": {},
   "outputs": [],
   "source": [
    "import tensorflow as tf\n",
    "from keras.models import load_model"
   ]
  },
  {
   "cell_type": "code",
   "execution_count": 10,
   "metadata": {},
   "outputs": [],
   "source": [
    "model.save('covidchestalexnet.h5')"
   ]
  },
  {
   "cell_type": "code",
   "execution_count": 11,
   "metadata": {},
   "outputs": [],
   "source": [
    "from sklearn.metrics import confusion_matrix, classification_report, accuracy_score"
   ]
  },
  {
   "cell_type": "code",
   "execution_count": 12,
   "metadata": {},
   "outputs": [
    {
     "ename": "NameError",
     "evalue": "name 'test_set' is not defined",
     "output_type": "error",
     "traceback": [
      "\u001b[1;31m---------------------------------------------------------------------------\u001b[0m",
      "\u001b[1;31mNameError\u001b[0m                                 Traceback (most recent call last)",
      "\u001b[1;32m<ipython-input-12-222becf7e6d6>\u001b[0m in \u001b[0;36m<module>\u001b[1;34m\u001b[0m\n\u001b[1;32m----> 1\u001b[1;33m \u001b[0mpredict\u001b[0m \u001b[1;33m=\u001b[0m \u001b[0mmodel\u001b[0m\u001b[1;33m.\u001b[0m\u001b[0mpredict_generator\u001b[0m\u001b[1;33m(\u001b[0m\u001b[0mtest_set\u001b[0m\u001b[1;33m,\u001b[0m \u001b[0msteps\u001b[0m\u001b[1;33m=\u001b[0m\u001b[0mlen\u001b[0m\u001b[1;33m(\u001b[0m\u001b[0mtest_set\u001b[0m\u001b[1;33m)\u001b[0m\u001b[1;33m,\u001b[0m \u001b[0mverbose\u001b[0m\u001b[1;33m=\u001b[0m\u001b[1;36m1\u001b[0m\u001b[1;33m)\u001b[0m\u001b[1;33m\u001b[0m\u001b[1;33m\u001b[0m\u001b[0m\n\u001b[0m\u001b[0;32m      2\u001b[0m \u001b[0mtest_label\u001b[0m \u001b[1;33m=\u001b[0m \u001b[0mtest_set\u001b[0m\u001b[1;33m.\u001b[0m\u001b[0mclasses\u001b[0m\u001b[1;33m\u001b[0m\u001b[1;33m\u001b[0m\u001b[0m\n",
      "\u001b[1;31mNameError\u001b[0m: name 'test_set' is not defined"
     ]
    }
   ],
   "source": [
    "predict = model.predict_generator(test_set, steps=len(test_set), verbose=1)\n",
    "test_label = test_set.classes"
   ]
  },
  {
   "cell_type": "code",
   "execution_count": 14,
   "metadata": {},
   "outputs": [
    {
     "name": "stdout",
     "output_type": "stream",
     "text": [
      "Confusion Matrix\n"
     ]
    },
    {
     "ename": "NameError",
     "evalue": "name 'test_label' is not defined",
     "output_type": "error",
     "traceback": [
      "\u001b[1;31m---------------------------------------------------------------------------\u001b[0m",
      "\u001b[1;31mNameError\u001b[0m                                 Traceback (most recent call last)",
      "\u001b[1;32m<ipython-input-14-e1e2fa49620a>\u001b[0m in \u001b[0;36m<module>\u001b[1;34m\u001b[0m\n\u001b[0;32m      1\u001b[0m \u001b[1;31m#confusion matrix\u001b[0m\u001b[1;33m\u001b[0m\u001b[1;33m\u001b[0m\u001b[1;33m\u001b[0m\u001b[0m\n\u001b[0;32m      2\u001b[0m \u001b[0mprint\u001b[0m\u001b[1;33m(\u001b[0m\u001b[1;34m'Confusion Matrix'\u001b[0m\u001b[1;33m)\u001b[0m\u001b[1;33m\u001b[0m\u001b[1;33m\u001b[0m\u001b[0m\n\u001b[1;32m----> 3\u001b[1;33m \u001b[0mconfusion_matrix\u001b[0m\u001b[1;33m(\u001b[0m\u001b[0mtest_label\u001b[0m\u001b[1;33m,\u001b[0m \u001b[0mpredict\u001b[0m\u001b[1;33m.\u001b[0m\u001b[0margmax\u001b[0m\u001b[1;33m(\u001b[0m\u001b[0maxis\u001b[0m\u001b[1;33m=\u001b[0m\u001b[1;36m1\u001b[0m\u001b[1;33m)\u001b[0m\u001b[1;33m)\u001b[0m\u001b[1;33m\u001b[0m\u001b[1;33m\u001b[0m\u001b[0m\n\u001b[0m",
      "\u001b[1;31mNameError\u001b[0m: name 'test_label' is not defined"
     ]
    }
   ],
   "source": [
    "#confusion matrix\n",
    "print('Confusion Matrix')\n",
    "confusion_matrix(test_label, predict.argmax(axis=1))"
   ]
  },
  {
   "cell_type": "code",
   "execution_count": null,
   "metadata": {},
   "outputs": [],
   "source": [
    "#plot for confusion matrix\n",
    "import matplotlib.pyplot as plt\n",
    "import numpy as np\n",
    "cm = metrics.confusion_matrix(test_labels, predict.argmax(axis=1))\n",
    "plt.imshow(cm, cmap=plt.cm.Blues)\n",
    "plt.xlabel(\"Predicted labels\")\n",
    "plt.ylabel(\"True labels\")\n",
    "plt.xticks([], [])\n",
    "plt.yticks([], [])\n",
    "plt.title('Confusion matrix ')\n",
    "plt.colorbar()\n",
    "plt.show()"
   ]
  },
  {
   "cell_type": "code",
   "execution_count": null,
   "metadata": {},
   "outputs": [],
   "source": [
    "#classification report\n",
    "cr_labels = list(test_set.class_indices.keys())\n",
    "classification_report(test_labels, predict.argmax(axis=1), target_names=cr_labels)"
   ]
  },
  {
   "cell_type": "code",
   "execution_count": null,
   "metadata": {},
   "outputs": [],
   "source": [
    "#accuracy score\n",
    "preds = model.evaluate_generator(test_set)\n",
    "print (\"Loss = \" + str(preds[0]))\n",
    "print (\"Test Accuracy = \" + str(preds[1]))"
   ]
  }
 ],
 "metadata": {
  "kernelspec": {
   "display_name": "Python 3",
   "language": "python",
   "name": "python3"
  },
  "language_info": {
   "codemirror_mode": {
    "name": "ipython",
    "version": 3
   },
   "file_extension": ".py",
   "mimetype": "text/x-python",
   "name": "python",
   "nbconvert_exporter": "python",
   "pygments_lexer": "ipython3",
   "version": "3.7.6"
  }
 },
 "nbformat": 4,
 "nbformat_minor": 4
}
